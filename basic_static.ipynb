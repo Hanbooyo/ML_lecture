{
  "nbformat": 4,
  "nbformat_minor": 0,
  "metadata": {
    "colab": {
      "provenance": []
    },
    "kernelspec": {
      "name": "python3",
      "display_name": "Python 3"
    },
    "language_info": {
      "name": "python"
    }
  },
  "cells": [
    {
      "cell_type": "code",
      "execution_count": null,
      "metadata": {
        "id": "Upf_mhfpvMdo"
      },
      "outputs": [],
      "source": [
        "!sudo apt-get install -y fonts-nanum\n",
        "!sudo fc-cache -fv\n",
        "!rm ~/.cache/matplotlib -rf\n",
        "# 코랩에서 그래프 안나오는 경우 써야함\n",
        "%matplotlib inline "
      ]
    },
    {
      "cell_type": "code",
      "source": [
        "# 데이터 처리 \n",
        "import pandas as pd\n",
        "\n",
        "# 행렬 연산 \n",
        "import numpy as nd\n",
        "\n",
        "# 데이터 시각화\n",
        "import matplotlib\n",
        "import matplotlib.pyplot as plt\n",
        "\n",
        "# 경고 메시지 무시\n",
        "import warnings\n",
        "\n",
        "# 글꼴 설정\n",
        "plt.rc('font', family='NanumBarunGothic') \n",
        "\n",
        "# 실행결과 경고메시지 출력 제외\n",
        "warnings.filterwarnings('ignore')\n"
      ],
      "metadata": {
        "id": "BxQA39TKv7nV"
      },
      "execution_count": null,
      "outputs": []
    },
    {
      "cell_type": "code",
      "source": [
        "health_data = pd.read.csv(\"./health.csv\",encoding=\"UTF-8\")"
      ],
      "metadata": {
        "id": "DkZB049vwgEv"
      },
      "execution_count": null,
      "outputs": []
    },
    {
      "cell_type": "code",
      "source": [
        "#MESURE_IEM_001_VALUE : 신장(cm)\n",
        "#MESURE_IEM_002_VALUE : 체중(kg)\n",
        "#MESURE_IEM_003_VALUE : 체지방율(%)\n",
        "\n",
        "health_info=health_data[['MESURE_AGE_CO', 'MESURE_IEM_001_VALUE', 'MESURE_IEM_002_VALUE',' MESURE_IEM_003_VALUE']]"
      ],
      "metadata": {
        "id": "ltTGkzkAwlqt"
      },
      "execution_count": null,
      "outputs": []
    },
    {
      "cell_type": "code",
      "source": [
        "#max값\n",
        "health_info.max()"
      ],
      "metadata": {
        "id": "BR47UPSzxECX"
      },
      "execution_count": null,
      "outputs": []
    },
    {
      "cell_type": "code",
      "source": [
        "#min값\n",
        "health_info.mix()"
      ],
      "metadata": {
        "id": "Od_sbEdrxIpQ"
      },
      "execution_count": null,
      "outputs": []
    },
    {
      "cell_type": "code",
      "source": [
        "#Standard Deviation값\n",
        "health_info.std()"
      ],
      "metadata": {
        "id": "-Hx4xGC9xLV_"
      },
      "execution_count": null,
      "outputs": []
    },
    {
      "cell_type": "code",
      "source": [
        "#Mean 값\n",
        "health_info.mean()"
      ],
      "metadata": {
        "id": "t0RyELDUxPCN"
      },
      "execution_count": null,
      "outputs": []
    },
    {
      "cell_type": "code",
      "source": [
        "#Count 값\n",
        "health_info.count()"
      ],
      "metadata": {
        "id": "BdJ1UuTyxRv8"
      },
      "execution_count": null,
      "outputs": []
    },
    {
      "cell_type": "code",
      "source": [
        "#Covariance 값        분산\n",
        "health_info.cov()"
      ],
      "metadata": {
        "id": "_W90cHv7xcXO"
      },
      "execution_count": null,
      "outputs": []
    },
    {
      "cell_type": "code",
      "source": [
        "#Correlation coefficient 값     상관계수\n",
        "health_info.corr()"
      ],
      "metadata": {
        "id": "G9a8a-unyApo"
      },
      "execution_count": null,
      "outputs": []
    },
    {
      "cell_type": "code",
      "source": [
        "# Correlation matrix\n",
        "pd.plotting.scatter_matrix(health_info, marker='+', figsize(10,10))"
      ],
      "metadata": {
        "id": "NVwvc5GXyHUe"
      },
      "execution_count": null,
      "outputs": []
    }
  ]
}