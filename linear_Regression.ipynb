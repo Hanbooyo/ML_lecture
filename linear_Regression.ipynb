{
  "nbformat": 4,
  "nbformat_minor": 0,
  "metadata": {
    "colab": {
      "provenance": []
    },
    "kernelspec": {
      "name": "python3",
      "display_name": "Python 3"
    },
    "language_info": {
      "name": "python"
    }
  },
  "cells": [
    {
      "cell_type": "code",
      "execution_count": 4,
      "metadata": {
        "id": "98Bi39iSD3an"
      },
      "outputs": [],
      "source": [
        "import pandas as pd\n",
        "\n",
        "# 결측치 실습\n",
        "# SimpleImputer는 결측치를 쉽게 다루도록 도와줌.\n",
        "from sklearn.impute import SimpleImputer\n",
        "\n",
        "# NaN값(결측치)을 midian 값으로 채울 예정\n",
        "imputer = SimpleImputer(strategy=\"median\")\n",
        "\n",
        "# 파일 읽어옴\n",
        "test_data = pd.read_csv(\"wine_crack.csv\") # pandas로 하면 mean값을 일일이 구해야한다.\n",
        "\n",
        "# median 값이 얼마인지 파악함\n",
        "imputer.fit(test_data)\n",
        "\n",
        "# 결측치를 median값으로 바꿔줌 (transform)한다.\n",
        "imputerX = imputer.transform(test_data)"
      ]
    },
    {
      "cell_type": "code",
      "source": [
        "imputerX"
      ],
      "metadata": {
        "id": "R9sMP2gYE2yv"
      },
      "execution_count": null,
      "outputs": []
    },
    {
      "cell_type": "code",
      "source": [
        "# 와인 측정 데이터 Wine Quality Data Set https://archive.ics.uci.edu/ml/datasets/wine+quality\n",
        "'''\n",
        "속성\n",
        "1: fixed acidity 주석산 농도\n",
        "\n",
        "2: volatile acidity 아세트산 농도\n",
        "\n",
        "3: citric acid 구연산 농도\n",
        "\n",
        "4: residual sugar 잔류 당분 농도\n",
        "\n",
        "5: chlorides 염화나트륨 농도\n",
        "\n",
        "6: free sulfur dioxide 유리 아황산 농도\n",
        "\n",
        "7: total sulfur dioxide 총 아황산 농도\n",
        "\n",
        "8: density 밀도\n",
        "\n",
        "9: pH\n",
        "\n",
        "10: sulphates 황산칼륨 농도\n",
        "\n",
        "11: alcohol 알코올 도수\n",
        "\n",
        "12: quality (score between 0 and 10) 와인의 맛(0~10등급)\n",
        "\n",
        "13: class 와인 종류 (1: 레드와인, 0: 화이트와인)\n",
        "'''"
      ],
      "metadata": {
        "colab": {
          "base_uri": "https://localhost:8080/",
          "height": 90
        },
        "id": "36GHKIg5E5zA",
        "outputId": "86edc662-4456-4a6a-f138-966bd43d0da2"
      },
      "execution_count": 5,
      "outputs": [
        {
          "output_type": "execute_result",
          "data": {
            "text/plain": [
              "'\\n속성\\n1: fixed acidity 주석산 농도\\n\\n2: volatile acidity 아세트산 농도\\n\\n3: citric acid 구연산 농도\\n\\n4: residual sugar 잔류 당분 농도\\n\\n5: chlorides 염화나트륨 농도\\n\\n6: free sulfur dioxide 유리 아황산 농도\\n\\n7: total sulfur dioxide 총 아황산 농도\\n\\n8: density 밀도\\n\\n9: pH\\n\\n10: sulphates 황산칼륨 농도\\n\\n11: alcohol 알코올 도수\\n\\n12: quality (score between 0 and 10) 와인의 맛(0~10등급)\\n\\n13: class 와인 종류 (1: 레드와인, 0: 화이트와인)\\n'"
            ],
            "application/vnd.google.colaboratory.intrinsic+json": {
              "type": "string"
            }
          },
          "metadata": {},
          "execution_count": 5
        }
      ]
    },
    {
      "cell_type": "code",
      "source": [
        "# 샘플 코드\n",
        "import matplotlib\n",
        "import matplotlib.pyplot as plt\n",
        "import numpy as np\n",
        "import pandas as pd\n",
        "import sklearn.linear_model\n",
        "\n",
        "# 데이터 적재\n",
        "wine_data = pd.read_csv('./wine.csv')\n",
        "print(wine_data)"
      ],
      "metadata": {
        "colab": {
          "base_uri": "https://localhost:8080/"
        },
        "id": "rfFyblM2F7v8",
        "outputId": "aaed3518-39cb-4952-c256-1cd639cf3f55"
      },
      "execution_count": 6,
      "outputs": [
        {
          "output_type": "stream",
          "name": "stdout",
          "text": [
            "      fixed acidity  volatile acidity  citric acid  residual sugar  chlorides  \\\n",
            "0               7.4              0.70         0.00             1.9      0.076   \n",
            "1               7.8              0.88         0.00             2.6      0.098   \n",
            "2               7.8              0.76         0.04             2.3      0.092   \n",
            "3              11.2              0.28         0.56             1.9      0.075   \n",
            "4               7.4              0.70         0.00             1.9      0.076   \n",
            "...             ...               ...          ...             ...        ...   \n",
            "6492            6.2              0.21         0.29             1.6      0.039   \n",
            "6493            6.6              0.32         0.36             8.0      0.047   \n",
            "6494            6.5              0.24         0.19             1.2      0.041   \n",
            "6495            5.5              0.29         0.30             1.1      0.022   \n",
            "6496            6.0              0.21         0.38             0.8      0.020   \n",
            "\n",
            "      free sulfur dioxide  total sulfur dioxide  density    pH  sulphates  \\\n",
            "0                    11.0                  34.0  0.99780  3.51       0.56   \n",
            "1                    25.0                  67.0  0.99680  3.20       0.68   \n",
            "2                    15.0                  54.0  0.99700  3.26       0.65   \n",
            "3                    17.0                  60.0  0.99800  3.16       0.58   \n",
            "4                    11.0                  34.0  0.99780  3.51       0.56   \n",
            "...                   ...                   ...      ...   ...        ...   \n",
            "6492                 24.0                  92.0  0.99114  3.27       0.50   \n",
            "6493                 57.0                 168.0  0.99490  3.15       0.46   \n",
            "6494                 30.0                 111.0  0.99254  2.99       0.46   \n",
            "6495                 20.0                 110.0  0.98869  3.34       0.38   \n",
            "6496                 22.0                  98.0  0.98941  3.26       0.32   \n",
            "\n",
            "      alcohol  quality  class  \n",
            "0         9.4        5      1  \n",
            "1         9.8        5      1  \n",
            "2         9.8        5      1  \n",
            "3         9.8        6      1  \n",
            "4         9.4        5      1  \n",
            "...       ...      ...    ...  \n",
            "6492     11.2        6      0  \n",
            "6493      9.6        5      0  \n",
            "6494      9.4        6      0  \n",
            "6495     12.8        7      0  \n",
            "6496     11.8        6      0  \n",
            "\n",
            "[6497 rows x 13 columns]\n"
          ]
        }
      ]
    },
    {
      "cell_type": "code",
      "source": [
        "# 데이터 준비 - train 컬럼 선정 및 target(정답값) 설정\n",
        "X = wine_data[[\"residual sugar\",\"density\"]]\n",
        "y = wine_data[\"alcohol\"]\n",
        "\n",
        "print(X)\n",
        "print(y)"
      ],
      "metadata": {
        "colab": {
          "base_uri": "https://localhost:8080/"
        },
        "id": "S8UcqQDdYE-X",
        "outputId": "03fd97d1-31ee-4350-cbbe-e77da0453691"
      },
      "execution_count": 20,
      "outputs": [
        {
          "output_type": "stream",
          "name": "stdout",
          "text": [
            "      residual sugar  density\n",
            "0                1.9  0.99780\n",
            "1                2.6  0.99680\n",
            "2                2.3  0.99700\n",
            "3                1.9  0.99800\n",
            "4                1.9  0.99780\n",
            "...              ...      ...\n",
            "6492             1.6  0.99114\n",
            "6493             8.0  0.99490\n",
            "6494             1.2  0.99254\n",
            "6495             1.1  0.98869\n",
            "6496             0.8  0.98941\n",
            "\n",
            "[6497 rows x 2 columns]\n",
            "0        9.4\n",
            "1        9.8\n",
            "2        9.8\n",
            "3        9.8\n",
            "4        9.4\n",
            "        ... \n",
            "6492    11.2\n",
            "6493     9.6\n",
            "6494     9.4\n",
            "6495    12.8\n",
            "6496    11.8\n",
            "Name: alcohol, Length: 6497, dtype: float64\n"
          ]
        }
      ]
    },
    {
      "cell_type": "code",
      "source": [
        "# 선형 모델 선택\n",
        "# 선형 모델 객체생성\n",
        "model = sklearn.linear_model.LinearRegression()\n",
        "\n",
        "# 모델한테 X 데이터 [resigdual sugar와 density]를 주고 정답값 y로부터 최소제곱법으로 최적의 w를 찾아냄\n",
        "model.fit(X,y)\n",
        "\n",
        "# 예측\n",
        "# 임의의 ressidual sugar 와 density 넣기\n",
        "X_new = [[1.8, 0.99490]]\n",
        "print(\"예측값 :\", model.predict(X_new))\n"
      ],
      "metadata": {
        "colab": {
          "base_uri": "https://localhost:8080/"
        },
        "id": "fkVH8Rk3YH0S",
        "outputId": "dfee2709-b07a-43f2-c697-7bc82d3f80cb"
      },
      "execution_count": 19,
      "outputs": [
        {
          "output_type": "stream",
          "name": "stdout",
          "text": [
            "예측값 : [3.26402218]\n"
          ]
        },
        {
          "output_type": "stream",
          "name": "stderr",
          "text": [
            "/usr/local/lib/python3.9/dist-packages/sklearn/base.py:439: UserWarning: X does not have valid feature names, but LinearRegression was fitted with feature names\n",
            "  warnings.warn(\n"
          ]
        }
      ]
    },
    {
      "cell_type": "code",
      "source": [
        "# 데이터 준비 - train 컬럼 선정 및 target(정답값) 설정\n",
        "X = wine_data[['fixed acidity','volatile acidity','citric acid','residual sugar','chlorides','free sulfur dioxide','total sulfur dioxide','density']]\n",
        "y = wine_data[\"pH\"]\n",
        "\n",
        "print(X)\n",
        "print(y)\n"
      ],
      "metadata": {
        "colab": {
          "base_uri": "https://localhost:8080/"
        },
        "id": "RFZU2q6jbRpL",
        "outputId": "c92f8eb7-ea24-4b01-bddc-f044dbb28baa"
      },
      "execution_count": 21,
      "outputs": [
        {
          "output_type": "stream",
          "name": "stdout",
          "text": [
            "      fixed acidity  volatile acidity  citric acid  residual sugar  chlorides  \\\n",
            "0               7.4              0.70         0.00             1.9      0.076   \n",
            "1               7.8              0.88         0.00             2.6      0.098   \n",
            "2               7.8              0.76         0.04             2.3      0.092   \n",
            "3              11.2              0.28         0.56             1.9      0.075   \n",
            "4               7.4              0.70         0.00             1.9      0.076   \n",
            "...             ...               ...          ...             ...        ...   \n",
            "6492            6.2              0.21         0.29             1.6      0.039   \n",
            "6493            6.6              0.32         0.36             8.0      0.047   \n",
            "6494            6.5              0.24         0.19             1.2      0.041   \n",
            "6495            5.5              0.29         0.30             1.1      0.022   \n",
            "6496            6.0              0.21         0.38             0.8      0.020   \n",
            "\n",
            "      free sulfur dioxide  total sulfur dioxide  density  \n",
            "0                    11.0                  34.0  0.99780  \n",
            "1                    25.0                  67.0  0.99680  \n",
            "2                    15.0                  54.0  0.99700  \n",
            "3                    17.0                  60.0  0.99800  \n",
            "4                    11.0                  34.0  0.99780  \n",
            "...                   ...                   ...      ...  \n",
            "6492                 24.0                  92.0  0.99114  \n",
            "6493                 57.0                 168.0  0.99490  \n",
            "6494                 30.0                 111.0  0.99254  \n",
            "6495                 20.0                 110.0  0.98869  \n",
            "6496                 22.0                  98.0  0.98941  \n",
            "\n",
            "[6497 rows x 8 columns]\n",
            "0       3.51\n",
            "1       3.20\n",
            "2       3.26\n",
            "3       3.16\n",
            "4       3.51\n",
            "        ... \n",
            "6492    3.27\n",
            "6493    3.15\n",
            "6494    2.99\n",
            "6495    3.34\n",
            "6496    3.26\n",
            "Name: pH, Length: 6497, dtype: float64\n"
          ]
        }
      ]
    },
    {
      "cell_type": "code",
      "source": [
        "\n",
        "# 선형 모델 선택\n",
        "# 선형 모델 객체생성\n",
        "model = sklearn.linear_model.LinearRegression()\n",
        "\n",
        "# 모델한테 X 데이터 [resigdual sugar와 density]를 주고 정답값 y로부터 최소제곱법으로 최적의 w를 찾아냄\n",
        "model.fit(X,y)\n",
        "\n",
        "# 예측\n",
        "# 임의의 ressidual sugar 와 density 넣기\n",
        "X_new = [[10,0.31,0.47,2.6,0.085,14,33,0.99965]]\n",
        "print(\"예측값 :\", model.predict(X_new))"
      ],
      "metadata": {
        "colab": {
          "base_uri": "https://localhost:8080/"
        },
        "id": "rLR-slMgYjZs",
        "outputId": "badbe248-a918-43ed-cc1b-15ff5fa9ae29"
      },
      "execution_count": 22,
      "outputs": [
        {
          "output_type": "stream",
          "name": "stdout",
          "text": [
            "예측값 : [3.26402218]\n"
          ]
        },
        {
          "output_type": "stream",
          "name": "stderr",
          "text": [
            "/usr/local/lib/python3.9/dist-packages/sklearn/base.py:439: UserWarning: X does not have valid feature names, but LinearRegression was fitted with feature names\n",
            "  warnings.warn(\n"
          ]
        }
      ]
    },
    {
      "cell_type": "code",
      "source": [
        "# 데이터 준비 - train 컬럼 선정 및 target(정답값) 설정\n",
        "X = wine_data[['volatile acidity','citric acid','residual sugar']]\n",
        "y = wine_data[\"pH\"]\n",
        "\n",
        "# 선형 모델 선택\n",
        "# 선형 모델 객체생성\n",
        "model = sklearn.linear_model.LinearRegression()\n",
        "\n",
        "# 모델한테 X 데이터 ['volatile acidity','citric acid','residual sugar']를 주고 정답값 y로부터 최소제곱법으로 최적의 w를 찾아냄\n",
        "model.fit(X,y)\n",
        "\n",
        "# 예측\n",
        "# 임의의 'volatile acidity','citric acid','residual sugar'\n",
        "X_new = [[0.48,0.24,2.7],\n",
        "         [0.58,0.22,2.2],\n",
        "         [0.38,0.5,11]]\n",
        "print(\"예측값 :\", model.predict(X_new))\n"
      ],
      "metadata": {
        "colab": {
          "base_uri": "https://localhost:8080/"
        },
        "id": "KihW-ih_chDS",
        "outputId": "c177ff4e-4b9f-444c-fb0d-cb66fd758bd6"
      },
      "execution_count": 24,
      "outputs": [
        {
          "output_type": "stream",
          "name": "stdout",
          "text": [
            "예측값 : [3.27685033 3.29817961 3.13384779]\n"
          ]
        },
        {
          "output_type": "stream",
          "name": "stderr",
          "text": [
            "/usr/local/lib/python3.9/dist-packages/sklearn/base.py:439: UserWarning: X does not have valid feature names, but LinearRegression was fitted with feature names\n",
            "  warnings.warn(\n"
          ]
        }
      ]
    },
    {
      "cell_type": "code",
      "source": [
        "# 데이터 준비 - train 컬럼 선정 및 target(정답값) 설정\n",
        "X = wine_data[['chlorides','density','pH','sulphates']]\n",
        "y = wine_data[\"alcohol\"]\n",
        "\n",
        "# 선형 모델 선택\n",
        "# 선형 모델 객체생성\n",
        "model = sklearn.linear_model.LinearRegression()\n",
        "\n",
        "model.fit(X,y)\n",
        "\n",
        "# 예측\n",
        "X_new = [[0.171,0.9982,3.14,0.91],\n",
        "         [0.131,0.9952,3.34,1.21],\n",
        "         [0.071,0.9682,3.44,0.71],\n",
        "         [0.415,0.99656,3.09,1.06 ]]\n",
        "print(\"예측값 :\", model.predict(X_new))\n"
      ],
      "metadata": {
        "colab": {
          "base_uri": "https://localhost:8080/"
        },
        "id": "ZVCREYRGfIVy",
        "outputId": "98200c9b-57b6-409a-91c0-cb3d73a60b8e"
      },
      "execution_count": 31,
      "outputs": [
        {
          "output_type": "stream",
          "name": "stdout",
          "text": [
            "예측값 : [ 9.72145826 11.28790959 18.35823164  9.70860133]\n"
          ]
        },
        {
          "output_type": "stream",
          "name": "stderr",
          "text": [
            "/usr/local/lib/python3.9/dist-packages/sklearn/base.py:439: UserWarning: X does not have valid feature names, but LinearRegression was fitted with feature names\n",
            "  warnings.warn(\n"
          ]
        }
      ]
    },
    {
      "cell_type": "code",
      "source": [
        "# Polynomial Regression\n",
        "import numpy as np\n",
        "import numpy.random as rnd\n",
        "\n",
        "# 넘파이로 랜덤한 값을 생성할건데 내일도 똑같은 랜덤값을 뽑고 싶을때, 그 뽑는 기준을  fix 해놓으면 된다! 우리는 그걸 랜덤시드라고 한다.\n",
        "np.random.seed(42)\n",
        "\n",
        "m = 100\n",
        "X = 6 * np.random.rand(m, 1) - 3 #0부터 1사이의 균일 분포에서 100행 1열의 난수 amtrix array 생성\n",
        "y = 0.5 * X**2 + X+2 + np.random.randn(m,1)\n",
        "\n",
        "print(X)\n",
        "print(\"========================\")\n",
        "print(y)"
      ],
      "metadata": {
        "colab": {
          "base_uri": "https://localhost:8080/"
        },
        "id": "1PGZavILfuPh",
        "outputId": "e5b66964-38cc-42b1-cfca-ccfa69dc57db"
      },
      "execution_count": 33,
      "outputs": [
        {
          "output_type": "stream",
          "name": "stdout",
          "text": [
            "[[-0.75275929]\n",
            " [ 2.70428584]\n",
            " [ 1.39196365]\n",
            " [ 0.59195091]\n",
            " [-2.06388816]\n",
            " [-2.06403288]\n",
            " [-2.65149833]\n",
            " [ 2.19705687]\n",
            " [ 0.60669007]\n",
            " [ 1.24843547]\n",
            " [-2.87649303]\n",
            " [ 2.81945911]\n",
            " [ 1.99465584]\n",
            " [-1.72596534]\n",
            " [-1.9090502 ]\n",
            " [-1.89957294]\n",
            " [-1.17454654]\n",
            " [ 0.14853859]\n",
            " [-0.40832989]\n",
            " [-1.25262516]\n",
            " [ 0.67111737]\n",
            " [-2.16303684]\n",
            " [-1.24713211]\n",
            " [-0.80182894]\n",
            " [-0.26358009]\n",
            " [ 1.71105577]\n",
            " [-1.80195731]\n",
            " [ 0.08540663]\n",
            " [ 0.55448741]\n",
            " [-2.72129752]\n",
            " [ 0.64526911]\n",
            " [-1.97685526]\n",
            " [-2.60969044]\n",
            " [ 2.69331322]\n",
            " [ 2.7937922 ]\n",
            " [ 1.85038409]\n",
            " [-1.17231738]\n",
            " [-2.41396732]\n",
            " [ 1.10539816]\n",
            " [-0.35908504]\n",
            " [-2.26777059]\n",
            " [-0.02893854]\n",
            " [-2.79366887]\n",
            " [ 2.45592241]\n",
            " [-1.44732011]\n",
            " [ 0.97513371]\n",
            " [-1.12973354]\n",
            " [ 0.12040813]\n",
            " [ 0.28026168]\n",
            " [-1.89087327]\n",
            " [ 2.81750777]\n",
            " [ 1.65079694]\n",
            " [ 2.63699365]\n",
            " [ 2.3689641 ]\n",
            " [ 0.58739987]\n",
            " [ 2.53124541]\n",
            " [-2.46904499]\n",
            " [-1.82410283]\n",
            " [-2.72863627]\n",
            " [-1.04801802]\n",
            " [-0.66793626]\n",
            " [-1.37190581]\n",
            " [ 1.97242505]\n",
            " [-0.85948004]\n",
            " [-1.31439294]\n",
            " [ 0.2561765 ]\n",
            " [-2.15445465]\n",
            " [ 1.81318188]\n",
            " [-2.55269614]\n",
            " [ 2.92132162]\n",
            " [ 1.63346862]\n",
            " [-1.80770591]\n",
            " [-2.9668673 ]\n",
            " [ 1.89276857]\n",
            " [ 1.24114406]\n",
            " [ 1.37404301]\n",
            " [ 1.62762208]\n",
            " [-2.55573209]\n",
            " [-0.84920563]\n",
            " [-2.30478564]\n",
            " [ 2.17862056]\n",
            " [ 0.73978876]\n",
            " [-1.01461185]\n",
            " [-2.6186499 ]\n",
            " [-1.13410607]\n",
            " [-1.04890007]\n",
            " [ 1.37763707]\n",
            " [ 0.82534483]\n",
            " [ 2.32327646]\n",
            " [-0.16671045]\n",
            " [-2.28243452]\n",
            " [ 1.27946872]\n",
            " [ 1.56471029]\n",
            " [ 0.36766319]\n",
            " [ 1.62580308]\n",
            " [-0.03722642]\n",
            " [ 0.13639698]\n",
            " [-0.43475389]\n",
            " [-2.84748524]\n",
            " [-2.35265144]]\n",
            "========================\n",
            "[[1.61761105]\n",
            " [8.06185944]\n",
            " [4.45250583]\n",
            " [0.77958493]\n",
            " [1.84625712]\n",
            " [2.42319555]\n",
            " [4.34161741]\n",
            " [6.09231611]\n",
            " [1.98223289]\n",
            " [3.52597398]\n",
            " [4.17601517]\n",
            " [9.12288507]\n",
            " [5.45422161]\n",
            " [2.27678027]\n",
            " [2.01026368]\n",
            " [2.87326073]\n",
            " [0.81318015]\n",
            " [1.8319083 ]\n",
            " [1.28292861]\n",
            " [0.06839479]\n",
            " [3.19243691]\n",
            " [2.43738261]\n",
            " [1.5356506 ]\n",
            " [1.28504875]\n",
            " [0.3557864 ]\n",
            " [4.75426637]\n",
            " [1.47885324]\n",
            " [1.28677651]\n",
            " [2.54692985]\n",
            " [3.38548344]\n",
            " [4.73964113]\n",
            " [2.15170091]\n",
            " [3.05310205]\n",
            " [8.24583537]\n",
            " [6.77765841]\n",
            " [5.53583085]\n",
            " [1.57507685]\n",
            " [4.9628939 ]\n",
            " [3.52398974]\n",
            " [2.00693334]\n",
            " [2.26890937]\n",
            " [0.80280214]\n",
            " [4.25144683]\n",
            " [8.22363289]\n",
            " [2.39107959]\n",
            " [2.54118912]\n",
            " [2.91120971]\n",
            " [0.72580612]\n",
            " [2.90639207]\n",
            " [4.08728321]\n",
            " [7.79614645]\n",
            " [4.44706448]\n",
            " [8.21351277]\n",
            " [6.67148391]\n",
            " [1.20925575]\n",
            " [7.80341005]\n",
            " [1.51674287]\n",
            " [2.31316516]\n",
            " [2.07466744]\n",
            " [3.05108727]\n",
            " [0.77187987]\n",
            " [1.24709545]\n",
            " [6.73117257]\n",
            " [0.27900861]\n",
            " [1.7768814 ]\n",
            " [3.59613245]\n",
            " [0.55889954]\n",
            " [5.64163002]\n",
            " [2.96531544]\n",
            " [9.97020449]\n",
            " [3.73062776]\n",
            " [0.50573781]\n",
            " [3.95622505]\n",
            " [5.98103968]\n",
            " [4.26185621]\n",
            " [4.66448831]\n",
            " [4.27217418]\n",
            " [2.94240486]\n",
            " [1.80444194]\n",
            " [1.63688137]\n",
            " [8.41758883]\n",
            " [3.48726539]\n",
            " [0.30880326]\n",
            " [3.46656736]\n",
            " [0.53431055]\n",
            " [2.28828021]\n",
            " [5.4851746 ]\n",
            " [2.34525955]\n",
            " [7.98545933]\n",
            " [2.25996666]\n",
            " [3.14437931]\n",
            " [5.99478181]\n",
            " [4.54348132]\n",
            " [1.68151513]\n",
            " [4.05790648]\n",
            " [1.1476562 ]\n",
            " [2.06859733]\n",
            " [2.00090356]\n",
            " [3.48329165]\n",
            " [3.24201621]]\n"
          ]
        }
      ]
    },
    {
      "cell_type": "code",
      "source": [],
      "metadata": {
        "id": "zbjPoLBXwQ91"
      },
      "execution_count": null,
      "outputs": []
    },
    {
      "cell_type": "code",
      "source": [
        "from sklearn.preprocessing import PolynomialFeatures\n",
        "poly_features = PolynomialFeatures(degree=2, include_bias=False)\n",
        "X_poly = poly_features.fit_transform(X)\n",
        "print(X[0])\n",
        "print(X_poly[0])"
      ],
      "metadata": {
        "colab": {
          "base_uri": "https://localhost:8080/"
        },
        "id": "GO-Dq3v7sicb",
        "outputId": "4530487b-cac9-4dc4-c693-56f75d8ced9c"
      },
      "execution_count": 34,
      "outputs": [
        {
          "output_type": "stream",
          "name": "stdout",
          "text": [
            "[-0.75275929]\n",
            "[-0.75275929  0.56664654]\n"
          ]
        }
      ]
    },
    {
      "cell_type": "code",
      "source": [
        "from sklearn.linear_model import LinearRegression\n",
        "lin_reg = LinearRegression()\n",
        "lin_reg.fit(X_poly, y)"
      ],
      "metadata": {
        "colab": {
          "base_uri": "https://localhost:8080/",
          "height": 75
        },
        "id": "PY95mGeiwalU",
        "outputId": "dc485e94-03ef-422f-a780-ea52e3edc490"
      },
      "execution_count": 35,
      "outputs": [
        {
          "output_type": "execute_result",
          "data": {
            "text/plain": [
              "LinearRegression()"
            ],
            "text/html": [
              "<style>#sk-container-id-1 {color: black;background-color: white;}#sk-container-id-1 pre{padding: 0;}#sk-container-id-1 div.sk-toggleable {background-color: white;}#sk-container-id-1 label.sk-toggleable__label {cursor: pointer;display: block;width: 100%;margin-bottom: 0;padding: 0.3em;box-sizing: border-box;text-align: center;}#sk-container-id-1 label.sk-toggleable__label-arrow:before {content: \"▸\";float: left;margin-right: 0.25em;color: #696969;}#sk-container-id-1 label.sk-toggleable__label-arrow:hover:before {color: black;}#sk-container-id-1 div.sk-estimator:hover label.sk-toggleable__label-arrow:before {color: black;}#sk-container-id-1 div.sk-toggleable__content {max-height: 0;max-width: 0;overflow: hidden;text-align: left;background-color: #f0f8ff;}#sk-container-id-1 div.sk-toggleable__content pre {margin: 0.2em;color: black;border-radius: 0.25em;background-color: #f0f8ff;}#sk-container-id-1 input.sk-toggleable__control:checked~div.sk-toggleable__content {max-height: 200px;max-width: 100%;overflow: auto;}#sk-container-id-1 input.sk-toggleable__control:checked~label.sk-toggleable__label-arrow:before {content: \"▾\";}#sk-container-id-1 div.sk-estimator input.sk-toggleable__control:checked~label.sk-toggleable__label {background-color: #d4ebff;}#sk-container-id-1 div.sk-label input.sk-toggleable__control:checked~label.sk-toggleable__label {background-color: #d4ebff;}#sk-container-id-1 input.sk-hidden--visually {border: 0;clip: rect(1px 1px 1px 1px);clip: rect(1px, 1px, 1px, 1px);height: 1px;margin: -1px;overflow: hidden;padding: 0;position: absolute;width: 1px;}#sk-container-id-1 div.sk-estimator {font-family: monospace;background-color: #f0f8ff;border: 1px dotted black;border-radius: 0.25em;box-sizing: border-box;margin-bottom: 0.5em;}#sk-container-id-1 div.sk-estimator:hover {background-color: #d4ebff;}#sk-container-id-1 div.sk-parallel-item::after {content: \"\";width: 100%;border-bottom: 1px solid gray;flex-grow: 1;}#sk-container-id-1 div.sk-label:hover label.sk-toggleable__label {background-color: #d4ebff;}#sk-container-id-1 div.sk-serial::before {content: \"\";position: absolute;border-left: 1px solid gray;box-sizing: border-box;top: 0;bottom: 0;left: 50%;z-index: 0;}#sk-container-id-1 div.sk-serial {display: flex;flex-direction: column;align-items: center;background-color: white;padding-right: 0.2em;padding-left: 0.2em;position: relative;}#sk-container-id-1 div.sk-item {position: relative;z-index: 1;}#sk-container-id-1 div.sk-parallel {display: flex;align-items: stretch;justify-content: center;background-color: white;position: relative;}#sk-container-id-1 div.sk-item::before, #sk-container-id-1 div.sk-parallel-item::before {content: \"\";position: absolute;border-left: 1px solid gray;box-sizing: border-box;top: 0;bottom: 0;left: 50%;z-index: -1;}#sk-container-id-1 div.sk-parallel-item {display: flex;flex-direction: column;z-index: 1;position: relative;background-color: white;}#sk-container-id-1 div.sk-parallel-item:first-child::after {align-self: flex-end;width: 50%;}#sk-container-id-1 div.sk-parallel-item:last-child::after {align-self: flex-start;width: 50%;}#sk-container-id-1 div.sk-parallel-item:only-child::after {width: 0;}#sk-container-id-1 div.sk-dashed-wrapped {border: 1px dashed gray;margin: 0 0.4em 0.5em 0.4em;box-sizing: border-box;padding-bottom: 0.4em;background-color: white;}#sk-container-id-1 div.sk-label label {font-family: monospace;font-weight: bold;display: inline-block;line-height: 1.2em;}#sk-container-id-1 div.sk-label-container {text-align: center;}#sk-container-id-1 div.sk-container {/* jupyter's `normalize.less` sets `[hidden] { display: none; }` but bootstrap.min.css set `[hidden] { display: none !important; }` so we also need the `!important` here to be able to override the default hidden behavior on the sphinx rendered scikit-learn.org. See: https://github.com/scikit-learn/scikit-learn/issues/21755 */display: inline-block !important;position: relative;}#sk-container-id-1 div.sk-text-repr-fallback {display: none;}</style><div id=\"sk-container-id-1\" class=\"sk-top-container\"><div class=\"sk-text-repr-fallback\"><pre>LinearRegression()</pre><b>In a Jupyter environment, please rerun this cell to show the HTML representation or trust the notebook. <br />On GitHub, the HTML representation is unable to render, please try loading this page with nbviewer.org.</b></div><div class=\"sk-container\" hidden><div class=\"sk-item\"><div class=\"sk-estimator sk-toggleable\"><input class=\"sk-toggleable__control sk-hidden--visually\" id=\"sk-estimator-id-1\" type=\"checkbox\" checked><label for=\"sk-estimator-id-1\" class=\"sk-toggleable__label sk-toggleable__label-arrow\">LinearRegression</label><div class=\"sk-toggleable__content\"><pre>LinearRegression()</pre></div></div></div></div></div>"
            ]
          },
          "metadata": {},
          "execution_count": 35
        }
      ]
    },
    {
      "cell_type": "code",
      "source": [
        "X_new=np.linspace(-3, 3, 100).reshape(100, 1) # 새로운 데이터 생성 -3에서 3까지 100개 추출 및 (100행 1열)\n",
        "X_new_poly = poly_features.transform(X_new)\n",
        "y_new = lin_reg.predict(X_new_poly)"
      ],
      "metadata": {
        "id": "o2kzvKk-u5cX"
      },
      "execution_count": 36,
      "outputs": []
    },
    {
      "cell_type": "code",
      "source": [
        "X_new=np.linspace(-3, 3, 100).reshape(100, 1) # 새로운 데이터 생성 -3에서 3까지 100개 추출 및 (100행 1열)\n",
        "X_new_poly = poly_features.transform(X_new)\n",
        "y_new = lin_reg.predict(X_new_poly)\n",
        "plt.plot(X, y, \"b.\") # 데이터 plot\n",
        "plt.plot(X_new, y_new, \"r\", linewidth=2) # 선그리는 부분\n",
        "plt.xlabel(\"$x_1$\", fontsize=18)\n",
        "plt.ylabel(\"$y$\", rotation=0, fontsize=18)\n",
        "plt.legend(loc=\"upper left\", fontsize=14)\n",
        "plt.axis([-3, 3, 0, 10])\n",
        "plt.show()"
      ],
      "metadata": {
        "colab": {
          "base_uri": "https://localhost:8080/",
          "height": 503
        },
        "id": "W8opo2-pweO6",
        "outputId": "42943d6e-bba0-4610-e656-b59232b37d05"
      },
      "execution_count": 37,
      "outputs": [
        {
          "output_type": "stream",
          "name": "stderr",
          "text": [
            "WARNING:matplotlib.legend:No artists with labels found to put in legend.  Note that artists whose label start with an underscore are ignored when legend() is called with no argument.\n"
          ]
        },
        {
          "output_type": "display_data",
          "data": {
            "text/plain": [
              "<Figure size 640x480 with 1 Axes>"
            ],
            "image/png": "[encoded data removed]"
          },
          "metadata": {}
        }
      ]
    },
    {
      "cell_type": "code",
      "source": [
        "plt.plot(X, y, \"b.\") # 데이터 plot\n",
        "\n",
        "plt.xlabel(\"$x_1$\", fontsize=18) # $는 수학적 notation으로 표시\n",
        "plt.ylabel(\"$y$\", rotation=0, fontsize=18) \n",
        "\n",
        "plt.axis([-3, 3, 0, 10]) # x축 min범위, x축 max범위, y축 min범위, y축 max범위\n",
        "plt.show()"
      ],
      "metadata": {
        "id": "Ssokll2euPMm"
      },
      "execution_count": null,
      "outputs": []
    },
    {
      "cell_type": "code",
      "source": [
        "from sklearn.linear_model import LinearRegression\n",
        "lin_reg = LinearRegression()\n",
        "lin_reg.fit(X_poly, y)"
      ],
      "metadata": {
        "id": "EUzl-pP7uOXB"
      },
      "execution_count": null,
      "outputs": []
    },
    {
      "cell_type": "code",
      "source": [
        "from sklearn.linear_model import SGDRegressor\n",
        "sgd_reg = SGDRegressor(max_iter=50, penalty=\"l2\", tol=1e-3, random_state=42)\n",
        "sgd_reg.fit(X, y.ravel())\n",
        "sgd_reg.predict([[1.5]])"
      ],
      "metadata": {
        "colab": {
          "base_uri": "https://localhost:8080/"
        },
        "id": "YQZZeLdP3ZwF",
        "outputId": "8092af76-cbe7-4bb7-96e0-2b9604e88b84"
      },
      "execution_count": 40,
      "outputs": [
        {
          "output_type": "execute_result",
          "data": {
            "text/plain": [
              "array([4.81978491])"
            ]
          },
          "metadata": {},
          "execution_count": 40
        }
      ]
    },
    {
      "cell_type": "code",
      "source": [
        "from sklearn.linear_model import ElasticNet\n",
        "elastic_net = ElasticNet(alpha=0.1, l1_ratio=0.5, random_state=42)\n",
        "elastic_net.fit(X, y)\n",
        "elastic_net.predict([[1.5]])"
      ],
      "metadata": {
        "colab": {
          "base_uri": "https://localhost:8080/"
        },
        "id": "sM4oZQQf3aK1",
        "outputId": "02fe0635-4a66-4dbc-f8ea-8bd1a8084064"
      },
      "execution_count": 41,
      "outputs": [
        {
          "output_type": "execute_result",
          "data": {
            "text/plain": [
              "array([4.78114505])"
            ]
          },
          "metadata": {},
          "execution_count": 41
        }
      ]
    },
    {
      "cell_type": "code",
      "source": [
        "from sklearn.linear_model import SGDRegressor\n",
        "X = 3 * np.random.rand(m, 1)\n",
        "y = 1 + 0.5 * X + np.random.randn(m, 1) / 1.5\n",
        "sgd_reg = SGDRegressor(max_iter=50, penalty=\"l2\", tol=1e-3, random_state=42)\n",
        "sgd_reg.fit(X, y.ravel())\n",
        "sgd_reg.predict([[1.5]])"
      ],
      "metadata": {
        "colab": {
          "base_uri": "https://localhost:8080/"
        },
        "id": "qcXo-UKI3uRj",
        "outputId": "8a5c70b0-473e-4994-8718-f0f604d388d7"
      },
      "execution_count": 48,
      "outputs": [
        {
          "output_type": "execute_result",
          "data": {
            "text/plain": [
              "array([1.68766119])"
            ]
          },
          "metadata": {},
          "execution_count": 48
        }
      ]
    },
    {
      "cell_type": "code",
      "source": [],
      "metadata": {
        "id": "XMFBzvQC4R2m"
      },
      "execution_count": null,
      "outputs": []
    }
  ]
}